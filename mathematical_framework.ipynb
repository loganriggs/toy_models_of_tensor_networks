{
 "cells": [
  {
   "cell_type": "code",
   "execution_count": 1,
   "id": "0b156b2e",
   "metadata": {},
   "outputs": [
    {
     "data": {
      "text/plain": [
       "<All keys matched successfully>"
      ]
     },
     "execution_count": 1,
     "metadata": {},
     "output_type": "execute_result"
    }
   ],
   "source": [
    "import torch\n",
    "import json\n",
    "from utils import ToyTransformer, ModelConfig\n",
    "\n",
    "# we want to load in the config & weights \n",
    "model_name = \"attention_only_1L\"\n",
    "\n",
    "# load in the config\n",
    "with open(f'{model_name}_config.json', 'r') as f:\n",
    "    config = json.load(f)\n",
    "# turn config into a dot dict\n",
    "config = ModelConfig(**config)\n",
    "# load in the weights\n",
    "model = ToyTransformer(config)\n",
    "state_dict = torch.load(f'toy_transformer_{model_name}.pt')\n",
    "model.load_state_dict(state_dict)\n",
    "\n",
    "# we want to load in the data"
   ]
  },
  {
   "cell_type": "code",
   "execution_count": 2,
   "id": "c1a0259c",
   "metadata": {},
   "outputs": [
    {
     "data": {
      "text/plain": [
       "ToyTransformer(\n",
       "  (embed): Embedding(10000, 512)\n",
       "  (dropout): Dropout(p=0.1, inplace=False)\n",
       "  (layers): ModuleList(\n",
       "    (0): QuadraticAttention(\n",
       "      (rotary): Rotary()\n",
       "      (norm): RMSNorm((64,), eps=None, elementwise_affine=True)\n",
       "      (mask): Mask()\n",
       "      (q): Linear(in_features=512, out_features=512, bias=True)\n",
       "      (k): Linear(in_features=512, out_features=512, bias=True)\n",
       "      (v): Linear(in_features=512, out_features=512, bias=True)\n",
       "      (o): Linear(in_features=512, out_features=512, bias=False)\n",
       "    )\n",
       "  )\n",
       "  (head): Linear(in_features=512, out_features=10000, bias=False)\n",
       ")"
      ]
     },
     "execution_count": 2,
     "metadata": {},
     "output_type": "execute_result"
    }
   ],
   "source": [
    "model"
   ]
  },
  {
   "cell_type": "code",
   "execution_count": null,
   "id": "3db88223",
   "metadata": {},
   "outputs": [
    {
     "name": "stdout",
     "output_type": "stream",
     "text": [
      "Shape of E: torch.Size([10000, 512])\n",
      "Shape of Q: torch.Size([512, 512])\n",
      "Shape of K: torch.Size([512, 512])\n",
      "Shape of V: torch.Size([512, 512])\n",
      "Shape of O: torch.Size([512, 512])\n"
     ]
    }
   ],
   "source": [
    "E = model.embed.weight.data\n",
    "Q = model.layers[0].q.weight.data\n",
    "K = model.layers[0].k.weight.data\n",
    "V = model.layers[0].v.weight.data\n",
    "O = model.layers[0].o.weight.data\n",
    "U = model.head.weight.data\n",
    "\n",
    "print(f\"Shape of E: {E.shape}\")\n",
    "print(f\"Shape of Q: {Q.shape}\")\n",
    "print(f\"Shape of K: {K.shape}\")\n",
    "print(f\"Shape of V: {V.shape}\")\n",
    "print(f\"Shape of O: {O.shape}\")\n",
    "\n",
    "attn_head_idx = 0\n",
    "d_head = model.layers[0].d_head\n",
    "\n",
    "q = Q[attn_head_idx * d_head:(attn_head_idx + 1) * d_head]\n",
    "k = K[attn_head_idx * d_head:(attn_head_idx + 1) * d_head]\n",
    "v = V[attn_head_idx * d_head:(attn_head_idx + 1) * d_head]\n",
    "o = O[attn_head_idx * d_head:(attn_head_idx + 1) * d_head]\n",
    "\n",
    "qk = q.T @ k\n",
    "ov = v.T @ o\n",
    "\n",
    "qk_circuit = E @ qk @ E.T # Doesn't work in bilinear\n",
    "ov_circuit = U @ ov @ E.T"
   ]
  },
  {
   "cell_type": "code",
   "execution_count": 51,
   "id": "4458020b",
   "metadata": {},
   "outputs": [],
   "source": [
    "ov_circuit = U @ ov.T @ E.T"
   ]
  },
  {
   "cell_type": "code",
   "execution_count": 52,
   "id": "0ce3a885",
   "metadata": {},
   "outputs": [
    {
     "name": "stdout",
     "output_type": "stream",
     "text": [
      "[tensor(943), tensor(191), tensor(9), tensor(159), tensor(139), tensor(1548), tensor(9783), tensor(8607), tensor(9746), tensor(8972), tensor(9233), tensor(9774), tensor(7577), tensor(1914), tensor(208), tensor(8124), tensor(6896), tensor(34), tensor(3), tensor(2), tensor(47), tensor(2690), tensor(2088), tensor(9068), tensor(9948), tensor(5866), tensor(9762), tensor(2113), tensor(8422), tensor(1611), tensor(471), tensor(5), tensor(303), tensor(7150), tensor(4525), tensor(3417), tensor(3540), tensor(47), tensor(9673), tensor(9953), tensor(204), tensor(2901), tensor(8529), tensor(9930), tensor(7972), tensor(9861), tensor(9253), tensor(1295), tensor(9981), tensor(8434), tensor(163), tensor(1438), tensor(1186), tensor(7081), tensor(9959), tensor(8), tensor(9954), tensor(9735), tensor(1146), tensor(2599), tensor(6896), tensor(56), tensor(1704), tensor(9926), tensor(9955), tensor(9997), tensor(9718), tensor(9779), tensor(2001), tensor(130), tensor(8476), tensor(9992), tensor(9958), tensor(897), tensor(4795), tensor(9627), tensor(3641), tensor(9760), tensor(3549), tensor(9959), tensor(746), tensor(32), tensor(9814), tensor(782), tensor(9309), tensor(9982), tensor(256), tensor(3103), tensor(479), tensor(1003), tensor(9994), tensor(1403), tensor(590), tensor(815), tensor(1420), tensor(9772), tensor(9008), tensor(9157), tensor(334), tensor(5150), tensor(200), tensor(9138), tensor(8684), tensor(9072), tensor(282), tensor(9948), tensor(9697), tensor(9831), tensor(252), tensor(2414), tensor(3854), tensor(6), tensor(27), tensor(9419), tensor(278), tensor(9933), tensor(8914), tensor(9978), tensor(9256), tensor(9802), tensor(9858), tensor(9018), tensor(9931), tensor(1), tensor(7009), tensor(1391), tensor(7585), tensor(717), tensor(992), tensor(1799), tensor(2123), tensor(9134), tensor(9571), tensor(3416), tensor(5111), tensor(9889), tensor(85), tensor(639), tensor(99), tensor(415), tensor(9951), tensor(8616), tensor(4954), tensor(8316), tensor(9972), tensor(9870), tensor(741), tensor(1158), tensor(198), tensor(1955), tensor(8132), tensor(99), tensor(8429), tensor(1223), tensor(106), tensor(134), tensor(367), tensor(5885), tensor(9763), tensor(9956), tensor(9853), tensor(6978), tensor(1111), tensor(9903), tensor(47), tensor(148), tensor(9696), tensor(9742), tensor(9646), tensor(591), tensor(9896), tensor(9932), tensor(9922), tensor(71), tensor(7024), tensor(9971), tensor(2076), tensor(48), tensor(5993), tensor(9750), tensor(961), tensor(9478), tensor(115), tensor(8302), tensor(9), tensor(9843), tensor(84), tensor(931), tensor(5032), tensor(3586), tensor(60), tensor(9925), tensor(7431), tensor(8851), tensor(7163), tensor(2387), tensor(57), tensor(9850), tensor(5752), tensor(520), tensor(9348), tensor(82), tensor(805), tensor(4081), tensor(7992), tensor(1043), tensor(3765), tensor(29), tensor(5337), tensor(7259), tensor(2969), tensor(9719), tensor(2236), tensor(1293), tensor(8639), tensor(8108), tensor(9488), tensor(440), tensor(89), tensor(8909), tensor(9829), tensor(6918), tensor(5182), tensor(2983), tensor(1206), tensor(6), tensor(9993), tensor(9532), tensor(2788), tensor(248), tensor(1199), tensor(9978), tensor(296), tensor(9612), tensor(180), tensor(7183), tensor(3989), tensor(9689), tensor(6443), tensor(4713), tensor(1977), tensor(787), tensor(9928), tensor(1109), tensor(4593), tensor(9067), tensor(6978), tensor(9986), tensor(130), tensor(384), tensor(889), tensor(191), tensor(7), tensor(36), tensor(9549), tensor(9456), tensor(9925), tensor(428), tensor(9844), tensor(180), tensor(9949), tensor(399), tensor(5593), tensor(9890), tensor(462), tensor(5794), tensor(1636), tensor(2663), tensor(9083), tensor(9974), tensor(1041), tensor(9578), tensor(8815), tensor(9629), tensor(16), tensor(1097), tensor(9093), tensor(241), tensor(9988), tensor(9043), tensor(9834), tensor(9896), tensor(985), tensor(63), tensor(3859), tensor(9927), tensor(7812), tensor(5014), tensor(9392), tensor(9935), tensor(2319), tensor(10000), tensor(545), tensor(147), tensor(3119), tensor(6803), tensor(6197), tensor(419), tensor(9228), tensor(886), tensor(890), tensor(9839), tensor(9056), tensor(7695), tensor(9740), tensor(8060), tensor(642), tensor(760), tensor(4002), tensor(3864), tensor(9558), tensor(5613), tensor(9885), tensor(8388), tensor(8817), tensor(34), tensor(4539), tensor(9865), tensor(65), tensor(3263), tensor(223), tensor(1539), tensor(181), tensor(5202), tensor(9866), tensor(439), tensor(9971), tensor(400), tensor(6661), tensor(1133), tensor(669), tensor(2422), tensor(161), tensor(1724), tensor(8331), tensor(35), tensor(170), tensor(287), tensor(9812), tensor(6251), tensor(2), tensor(2832), tensor(8223), tensor(9676), tensor(762), tensor(5062), tensor(7691), tensor(6266), tensor(9709), tensor(5260), tensor(1813), tensor(9687), tensor(8125), tensor(9577), tensor(6245), tensor(9947), tensor(9734), tensor(9478), tensor(41), tensor(102), tensor(9922), tensor(3640), tensor(3396), tensor(8760), tensor(9098), tensor(9914), tensor(5462), tensor(5827), tensor(598), tensor(4177), tensor(9986), tensor(4223), tensor(578), tensor(11), tensor(3), tensor(292), tensor(7080), tensor(3288), tensor(9947), tensor(9954), tensor(149), tensor(3673), tensor(8859), tensor(1786), tensor(9919), tensor(5149), tensor(2459), tensor(200), tensor(85), tensor(6823), tensor(433), tensor(9677), tensor(6913), tensor(7496), tensor(6498), tensor(4254), tensor(1320), tensor(9809), tensor(9743), tensor(549), tensor(90), tensor(1569), tensor(1836), tensor(433), tensor(3285), tensor(220), tensor(458), tensor(5166), tensor(871), tensor(28), tensor(62), tensor(920), tensor(8020), tensor(3017), tensor(126), tensor(3919), tensor(4657), tensor(9821), tensor(4771), tensor(9742), tensor(9971), tensor(22), tensor(699), tensor(9299), tensor(165), tensor(3193), tensor(9877), tensor(8912), tensor(741), tensor(89), tensor(2221), tensor(1439), tensor(382), tensor(76), tensor(9771), tensor(1270), tensor(9666), tensor(9750), tensor(4366), tensor(3789), tensor(9987), tensor(666), tensor(9963), tensor(6506), tensor(1183), tensor(215), tensor(9813), tensor(9693), tensor(1744), tensor(3384), tensor(8906), tensor(883), tensor(9908), tensor(8932), tensor(9642), tensor(9262), tensor(8154), tensor(6304), tensor(911), tensor(420), tensor(8191), tensor(9905), tensor(69), tensor(4894), tensor(9996), tensor(9988), tensor(1875), tensor(7648), tensor(4444), tensor(307), tensor(723), tensor(6185), tensor(336), tensor(1147), tensor(7773), tensor(50), tensor(4141), tensor(351), tensor(4296), tensor(58), tensor(2367), tensor(46), tensor(6379), tensor(694), tensor(472), tensor(7716), tensor(9158), tensor(9868), tensor(9419), tensor(5362), tensor(9278), tensor(7481), tensor(2096), tensor(8581), tensor(5304), tensor(9303), tensor(9951), tensor(3876), tensor(10000), tensor(9802), tensor(435), tensor(573), tensor(5121), tensor(9681), tensor(759), tensor(570), tensor(9854), tensor(8442), tensor(309), tensor(589), tensor(1103), tensor(9971), tensor(9973), tensor(7419), tensor(9943), tensor(7428), tensor(8456), tensor(273), tensor(8561), tensor(7608), tensor(8518), tensor(9911), tensor(9669), tensor(1128), tensor(5134), tensor(2132), tensor(1586), tensor(6191), tensor(649), tensor(9564), tensor(3490), tensor(7801), tensor(94), tensor(9733), tensor(4969), tensor(9306), tensor(1203), tensor(172), tensor(1884), tensor(6418), tensor(1080), tensor(523), tensor(117), tensor(7715), tensor(8212), tensor(9278), tensor(9920), tensor(9184), tensor(9991), tensor(1505), tensor(9294), tensor(9955), tensor(9181), tensor(6403), tensor(9632), tensor(9847), tensor(8159), tensor(5867), tensor(28), tensor(561), tensor(3399), tensor(8415), tensor(671), tensor(8421), tensor(6894), tensor(275), tensor(9226), tensor(4085), tensor(139), tensor(232), tensor(2168), tensor(7995), tensor(9071), tensor(504), tensor(4504), tensor(9226), tensor(8935), tensor(9340), tensor(9322), tensor(2497), tensor(8273), tensor(98), tensor(6680), tensor(949), tensor(316), tensor(2834), tensor(7816), tensor(2437), tensor(9877), tensor(1790), tensor(9529), tensor(7968), tensor(2504), tensor(9552), tensor(9971), tensor(9172), tensor(625), tensor(9306), tensor(1134), tensor(632), tensor(68), tensor(9845), tensor(7522), tensor(9844), tensor(9565), tensor(8875), tensor(9429), tensor(3874), tensor(725), tensor(9319), tensor(9961), tensor(9243), tensor(2792), tensor(9576), tensor(2954), tensor(2769), tensor(25), tensor(408), tensor(8924), tensor(2390), tensor(237), tensor(443), tensor(3016), tensor(9235), tensor(102), tensor(1101), tensor(8909), tensor(749), tensor(1673), tensor(6831), tensor(5499), tensor(5144), tensor(2038), tensor(129), tensor(1711), tensor(1826), tensor(1925), tensor(1298), tensor(405), tensor(9732), tensor(9842), tensor(524), tensor(4943), tensor(15), tensor(4446), tensor(1245), tensor(9553), tensor(844), tensor(5022), tensor(88), tensor(7971), tensor(129), tensor(8110), tensor(2666), tensor(141), tensor(1020), tensor(5665), tensor(7449), tensor(9894), tensor(410), tensor(197), tensor(9806), tensor(9018), tensor(8918), tensor(344), tensor(724), tensor(363), tensor(8612), tensor(8780), tensor(312), tensor(2), tensor(6692), tensor(215), tensor(848), tensor(9920), tensor(4914), tensor(227), tensor(579), tensor(2072), tensor(9223), tensor(9584), tensor(9905), tensor(49), tensor(2958), tensor(237), tensor(9615), tensor(683), tensor(9682), tensor(85), tensor(9778), tensor(8760), tensor(92), tensor(5505), tensor(9871), tensor(9754), tensor(4645), tensor(9893), tensor(6218), tensor(8812), tensor(247), tensor(9829), tensor(122), tensor(826), tensor(9596), tensor(8807), tensor(9192), tensor(5892), tensor(7808), tensor(1668), tensor(8518), tensor(2276), tensor(5962), tensor(3881), tensor(7036), tensor(8302), tensor(1504), tensor(9869), tensor(1451), tensor(5458), tensor(3034), tensor(3039), tensor(7647), tensor(63), tensor(115), tensor(9467), tensor(511), tensor(9379), tensor(62), tensor(8516), tensor(5063), tensor(822), tensor(9829), tensor(699), tensor(9730), tensor(9931), tensor(9304), tensor(9831), tensor(848), tensor(4258), tensor(189), tensor(560), tensor(8596), tensor(809), tensor(456), tensor(1842), tensor(350), tensor(57), tensor(8439), tensor(1174), tensor(1717), tensor(8288), tensor(402), tensor(9269), tensor(751), tensor(9708), tensor(9311), tensor(309), tensor(6271), tensor(4813), tensor(9580), tensor(3595), tensor(71), tensor(7693), tensor(8112), tensor(2872), tensor(1555), tensor(5828), tensor(243), tensor(9392), tensor(9657), tensor(7650), tensor(3300), tensor(588), tensor(9909), tensor(353), tensor(656), tensor(8461), tensor(6391), tensor(4039), tensor(8183), tensor(253), tensor(9398), tensor(510), tensor(206), tensor(627), tensor(6061), tensor(3848), tensor(9118), tensor(9933), tensor(9011), tensor(8830), tensor(549), tensor(362), tensor(1595), tensor(8956), tensor(251), tensor(5995), tensor(9250), tensor(9971), tensor(8611), tensor(9882), tensor(5897), tensor(7338), tensor(1221), tensor(9847), tensor(3822), tensor(667), tensor(186), tensor(6422), tensor(1019), tensor(9815), tensor(4106), tensor(8850), tensor(1581), tensor(2151), tensor(9619), tensor(1598), tensor(8541), tensor(2081), tensor(3241), tensor(7517), tensor(9500), tensor(285), tensor(8784), tensor(9749), tensor(9248), tensor(3316), tensor(4135), tensor(9322), tensor(1119), tensor(539), tensor(8155), tensor(2560), tensor(6839), tensor(9857), tensor(3004), tensor(4509), tensor(9872), tensor(9253), tensor(9200), tensor(496), tensor(131), tensor(1393), tensor(9553), tensor(5235), tensor(8709), tensor(141), tensor(9580), tensor(9579), tensor(4067), tensor(1546), tensor(5502), tensor(8173), tensor(8772), tensor(936), tensor(4828), tensor(7244), tensor(4631), tensor(1409), tensor(9959), tensor(744), tensor(4875), tensor(1719), tensor(289), tensor(183), tensor(9634), tensor(69), tensor(7353), tensor(2066), tensor(4095), tensor(437), tensor(5205), tensor(8363), tensor(463), tensor(1112), tensor(89), tensor(8166), tensor(617), tensor(9013), tensor(1346), tensor(9899), tensor(9806), tensor(1841), tensor(9704), tensor(1490), tensor(1112), tensor(28), tensor(9892), tensor(9154), tensor(437), tensor(79), tensor(8214), tensor(343), tensor(6644), tensor(4740), tensor(6359), tensor(189), tensor(1197), tensor(5980), tensor(1008), tensor(2330), tensor(3077), tensor(8435), tensor(8904), tensor(8267), tensor(4797), tensor(971), tensor(8712), tensor(4326), tensor(8244), tensor(171), tensor(3947), tensor(850), tensor(2853), tensor(3693), tensor(3622), tensor(8042), tensor(3098), tensor(9239), tensor(206), tensor(9052), tensor(3622), tensor(42), tensor(7521), tensor(6705), tensor(6227), tensor(48), tensor(8680), tensor(9875), tensor(8642), tensor(8773), tensor(4613), tensor(549), tensor(329), tensor(9927), tensor(9591), tensor(3966), tensor(5732), tensor(2139), tensor(890), tensor(870), tensor(940), tensor(381), tensor(2625), tensor(1422), tensor(5468), tensor(1060), tensor(8958), tensor(319), tensor(9590), tensor(5398), tensor(2789), tensor(8200), tensor(951), tensor(668), tensor(8673), tensor(9826), tensor(9272), tensor(676), tensor(9989), tensor(9916), tensor(178), tensor(9335), tensor(8579), tensor(1655), tensor(2799), tensor(2385), tensor(9462), tensor(8591), tensor(2376), tensor(9237), tensor(9471), tensor(8763), tensor(9127), tensor(9667), tensor(4604), tensor(4631), tensor(9380), tensor(8729), tensor(1021), tensor(119), tensor(9943), tensor(4274), tensor(1919), tensor(232), tensor(3162), tensor(474), tensor(5553), tensor(44), tensor(1071), tensor(5348), tensor(9563), tensor(793), tensor(8979), tensor(9278), tensor(1000), tensor(4178), tensor(836), tensor(8974), tensor(8929)]\n",
      "[tensor(1522), tensor(295), tensor(17), tensor(362), tensor(783), tensor(2882), tensor(8715), tensor(7690), tensor(8894), tensor(8878), tensor(8221), tensor(9656), tensor(7274), tensor(2188), tensor(851), tensor(7485), tensor(7023), tensor(67), tensor(10), tensor(5), tensor(114), tensor(3370), tensor(2757), tensor(8443), tensor(9788), tensor(5539), tensor(9418), tensor(2638), tensor(6923), tensor(1904), tensor(1094), tensor(20), tensor(1121), tensor(6399), tensor(5195), tensor(4051), tensor(3559), tensor(44), tensor(9223), tensor(9916), tensor(955), tensor(3418), tensor(7477), tensor(9732), tensor(6401), tensor(9571), tensor(8841), tensor(1886), tensor(9963), tensor(8383), tensor(412), tensor(1526), tensor(2145), tensor(5521), tensor(9813), tensor(7), tensor(9970), tensor(9292), tensor(1682), tensor(3071), tensor(5682), tensor(35), tensor(2067), tensor(9813), tensor(9910), tensor(9996), tensor(9720), tensor(9446), tensor(3077), tensor(1016), tensor(8184), tensor(9910), tensor(9906), tensor(1162), tensor(5147), tensor(9051), tensor(3194), tensor(9616), tensor(3811), tensor(9782), tensor(1634), tensor(90), tensor(9893), tensor(593), tensor(8248), tensor(9968), tensor(812), tensor(3328), tensor(695), tensor(1864), tensor(9954), tensor(2385), tensor(953), tensor(917), tensor(2091), tensor(9111), tensor(8356), tensor(8587), tensor(573), tensor(4848), tensor(225), tensor(7855), tensor(8095), tensor(8129), tensor(487), tensor(9811), tensor(9507), tensor(9634), tensor(425), tensor(3354), tensor(3191), tensor(127), tensor(73), tensor(9115), tensor(800), tensor(9847), tensor(7490), tensor(9897), tensor(8819), tensor(9495), tensor(9885), tensor(8280), tensor(9811), tensor(9), tensor(6786), tensor(2253), tensor(6454), tensor(1651), tensor(1385), tensor(3136), tensor(2601), tensor(8574), tensor(9153), tensor(3969), tensor(5625), tensor(9537), tensor(274), tensor(747), tensor(211), tensor(86), tensor(9873), tensor(8789), tensor(4972), tensor(7975), tensor(9789), tensor(9468), tensor(1046), tensor(1618), tensor(548), tensor(2387), tensor(7331), tensor(320), tensor(8107), tensor(1569), tensor(288), tensor(18), tensor(1013), tensor(6309), tensor(9181), tensor(9924), tensor(9820), tensor(6150), tensor(1231), tensor(9974), tensor(170), tensor(669), tensor(9328), tensor(9376), tensor(9495), tensor(1634), tensor(9457), tensor(9983), tensor(9964), tensor(228), tensor(6626), tensor(9932), tensor(2803), tensor(52), tensor(5600), tensor(9882), tensor(1780), tensor(9467), tensor(399), tensor(8230), tensor(40), tensor(9710), tensor(213), tensor(1429), tensor(5009), tensor(3329), tensor(170), tensor(9869), tensor(7020), tensor(8591), tensor(6675), tensor(2591), tensor(125), tensor(9638), tensor(5612), tensor(370), tensor(9205), tensor(80), tensor(686), tensor(4646), tensor(6756), tensor(1368), tensor(3572), tensor(8), tensor(5248), tensor(6603), tensor(3741), tensor(9204), tensor(2329), tensor(1716), tensor(8184), tensor(7868), tensor(9315), tensor(343), tensor(59), tensor(8544), tensor(9729), tensor(6767), tensor(5273), tensor(3507), tensor(1849), tensor(10), tensor(9979), tensor(8837), tensor(2978), tensor(578), tensor(1190), tensor(9954), tensor(535), tensor(9410), tensor(231), tensor(6906), tensor(4687), tensor(9735), tensor(5677), tensor(3966), tensor(1949), tensor(622), tensor(9851), tensor(1312), tensor(4777), tensor(9035), tensor(6838), tensor(9998), tensor(376), tensor(690), tensor(1533), tensor(98), tensor(12), tensor(26), tensor(9158), tensor(9328), tensor(9633), tensor(1794), tensor(9568), tensor(161), tensor(9862), tensor(465), tensor(6255), tensor(9883), tensor(391), tensor(5969), tensor(1705), tensor(3211), tensor(8206), tensor(9956), tensor(1301), tensor(9458), tensor(8211), tensor(9696), tensor(2), tensor(679), tensor(8792), tensor(319), tensor(9974), tensor(8603), tensor(9755), tensor(9925), tensor(715), tensor(79), tensor(3822), tensor(9955), tensor(7337), tensor(4747), tensor(9203), tensor(9914), tensor(2449), tensor(9981), tensor(730), tensor(392), tensor(2928), tensor(6270), tensor(6447), tensor(979), tensor(9561), tensor(1178), tensor(1548), tensor(9889), tensor(9044), tensor(6944), tensor(9517), tensor(8095), tensor(618), tensor(1520), tensor(3964), tensor(4042), tensor(8910), tensor(5437), tensor(9719), tensor(8591), tensor(8307), tensor(34), tensor(4072), tensor(9823), tensor(190), tensor(3112), tensor(203), tensor(1678), tensor(200), tensor(5301), tensor(9938), tensor(420), tensor(9979), tensor(779), tensor(6417), tensor(1400), tensor(1114), tensor(3430), tensor(322), tensor(1676), tensor(8188), tensor(59), tensor(236), tensor(506), tensor(9464), tensor(6239), tensor(37), tensor(3277), tensor(7955), tensor(9570), tensor(1092), tensor(4743), tensor(7923), tensor(5974), tensor(9732), tensor(5554), tensor(2051), tensor(9185), tensor(7717), tensor(9146), tensor(6317), tensor(9994), tensor(9809), tensor(8965), tensor(223), tensor(258), tensor(9919), tensor(4504), tensor(3937), tensor(9271), tensor(8763), tensor(9911), tensor(5375), tensor(5383), tensor(1098), tensor(4872), tensor(10000), tensor(4359), tensor(657), tensor(3), tensor(2), tensor(554), tensor(6904), tensor(3094), tensor(9907), tensor(9931), tensor(127), tensor(4309), tensor(9059), tensor(2633), tensor(9536), tensor(5075), tensor(3363), tensor(316), tensor(151), tensor(6695), tensor(460), tensor(9497), tensor(7061), tensor(6682), tensor(6900), tensor(4502), tensor(1475), tensor(9583), tensor(9559), tensor(827), tensor(72), tensor(2292), tensor(1625), tensor(649), tensor(3440), tensor(96), tensor(277), tensor(5067), tensor(757), tensor(69), tensor(86), tensor(1147), tensor(7503), tensor(3312), tensor(78), tensor(3781), tensor(4463), tensor(9964), tensor(4477), tensor(9609), tensor(9933), tensor(15), tensor(1379), tensor(8339), tensor(194), tensor(3967), tensor(9691), tensor(8838), tensor(1112), tensor(332), tensor(3061), tensor(2751), tensor(245), tensor(49), tensor(9743), tensor(1007), tensor(9601), tensor(9729), tensor(4416), tensor(3733), tensor(9985), tensor(1059), tensor(9982), tensor(6388), tensor(1131), tensor(337), tensor(9633), tensor(9476), tensor(1548), tensor(3938), tensor(8990), tensor(343), tensor(9836), tensor(8892), tensor(9773), tensor(8915), tensor(7736), tensor(5955), tensor(681), tensor(705), tensor(7401), tensor(9940), tensor(109), tensor(5541), tensor(9996), tensor(9999), tensor(2223), tensor(7478), tensor(4715), tensor(108), tensor(794), tensor(6103), tensor(368), tensor(1964), tensor(7506), tensor(37), tensor(4433), tensor(361), tensor(4351), tensor(153), tensor(2394), tensor(117), tensor(6460), tensor(1030), tensor(386), tensor(7476), tensor(8801), tensor(9889), tensor(9403), tensor(5749), tensor(8599), tensor(7386), tensor(2478), tensor(8572), tensor(4781), tensor(8997), tensor(9943), tensor(4236), tensor(10000), tensor(9592), tensor(897), tensor(270), tensor(5225), tensor(9625), tensor(958), tensor(563), tensor(9906), tensor(8319), tensor(353), tensor(889), tensor(1641), tensor(9950), tensor(9986), tensor(7528), tensor(9981), tensor(6986), tensor(8161), tensor(440), tensor(8137), tensor(8126), tensor(8479), tensor(9739), tensor(9033), tensor(743), tensor(5493), tensor(2697), tensor(2042), tensor(6229), tensor(1056), tensor(9703), tensor(4256), tensor(7333), tensor(178), tensor(9595), tensor(4191), tensor(9035), tensor(1213), tensor(107), tensor(2229), tensor(5811), tensor(976), tensor(537), tensor(135), tensor(6829), tensor(7428), tensor(9346), tensor(9887), tensor(8415), tensor(9930), tensor(1763), tensor(9107), tensor(9909), tensor(9112), tensor(5978), tensor(9691), tensor(9760), tensor(8642), tensor(5613), tensor(3), tensor(693), tensor(4101), tensor(8553), tensor(1047), tensor(8963), tensor(6871), tensor(452), tensor(8636), tensor(4305), tensor(177), tensor(421), tensor(2054), tensor(7590), tensor(8601), tensor(554), tensor(4663), tensor(9772), tensor(8879), tensor(9070), tensor(9532), tensor(2672), tensor(6926), tensor(257), tensor(6704), tensor(1837), tensor(713), tensor(2762), tensor(8124), tensor(3361), tensor(9795), tensor(2351), tensor(9423), tensor(7785), tensor(3252), tensor(9515), tensor(9975), tensor(8801), tensor(867), tensor(9114), tensor(1587), tensor(1233), tensor(33), tensor(9824), tensor(7622), tensor(9814), tensor(9258), tensor(9141), tensor(9054), tensor(3210), tensor(1027), tensor(8630), tensor(9910), tensor(9017), tensor(3259), tensor(9472), tensor(2856), tensor(1984), tensor(53), tensor(474), tensor(8594), tensor(3743), tensor(483), tensor(403), tensor(3415), tensor(9124), tensor(242), tensor(914), tensor(9050), tensor(1909), tensor(1170), tensor(6273), tensor(5143), tensor(4772), tensor(2240), tensor(460), tensor(2437), tensor(2501), tensor(2475), tensor(1916), tensor(268), tensor(9807), tensor(9852), tensor(93), tensor(4404), tensor(2), tensor(4424), tensor(1410), tensor(9148), tensor(478), tensor(5193), tensor(129), tensor(6598), tensor(342), tensor(7586), tensor(3123), tensor(527), tensor(1536), tensor(5435), tensor(7472), tensor(9791), tensor(337), tensor(297), tensor(9758), tensor(8145), tensor(8508), tensor(245), tensor(285), tensor(595), tensor(8243), tensor(9220), tensor(535), tensor(5), tensor(5964), tensor(468), tensor(1312), tensor(9900), tensor(4936), tensor(135), tensor(895), tensor(2000), tensor(8746), tensor(9618), tensor(9748), tensor(58), tensor(3008), tensor(161), tensor(9655), tensor(1147), tensor(9197), tensor(502), tensor(9749), tensor(8211), tensor(803), tensor(4974), tensor(9877), tensor(9663), tensor(5065), tensor(9981), tensor(6308), tensor(7783), tensor(51), tensor(9689), tensor(144), tensor(1274), tensor(9712), tensor(9042), tensor(8988), tensor(5453), tensor(7119), tensor(2012), tensor(7868), tensor(2464), tensor(5283), tensor(3450), tensor(6128), tensor(8570), tensor(2440), tensor(9929), tensor(1580), tensor(5005), tensor(2756), tensor(2940), tensor(7734), tensor(65), tensor(351), tensor(9569), tensor(395), tensor(9423), tensor(258), tensor(8540), tensor(5115), tensor(651), tensor(9585), tensor(843), tensor(9898), tensor(9874), tensor(9054), tensor(9891), tensor(1099), tensor(3779), tensor(495), tensor(652), tensor(8728), tensor(1530), tensor(423), tensor(1997), tensor(403), tensor(37), tensor(7667), tensor(1283), tensor(1540), tensor(7767), tensor(705), tensor(8576), tensor(1678), tensor(9707), tensor(9215), tensor(432), tensor(6245), tensor(4897), tensor(9497), tensor(4158), tensor(42), tensor(7189), tensor(8425), tensor(3346), tensor(1099), tensor(5972), tensor(363), tensor(9796), tensor(9701), tensor(7269), tensor(3194), tensor(313), tensor(9863), tensor(413), tensor(707), tensor(8213), tensor(6637), tensor(3758), tensor(8367), tensor(324), tensor(9375), tensor(613), tensor(303), tensor(502), tensor(5944), tensor(3983), tensor(9106), tensor(9842), tensor(8862), tensor(8655), tensor(830), tensor(387), tensor(1677), tensor(9370), tensor(220), tensor(5660), tensor(9369), tensor(9972), tensor(8948), tensor(9941), tensor(5788), tensor(7092), tensor(2191), tensor(9759), tensor(3890), tensor(610), tensor(204), tensor(6096), tensor(987), tensor(9861), tensor(4169), tensor(8562), tensor(1674), tensor(2510), tensor(9402), tensor(2317), tensor(8055), tensor(1407), tensor(3497), tensor(7232), tensor(9350), tensor(264), tensor(8845), tensor(9750), tensor(9019), tensor(3157), tensor(3971), tensor(8981), tensor(1121), tensor(461), tensor(8587), tensor(3189), tensor(6755), tensor(9807), tensor(3822), tensor(4173), tensor(9748), tensor(9136), tensor(8705), tensor(1546), tensor(201), tensor(1546), tensor(9614), tensor(5021), tensor(8209), tensor(281), tensor(9456), tensor(9246), tensor(4259), tensor(2025), tensor(5355), tensor(7591), tensor(8807), tensor(847), tensor(4084), tensor(7312), tensor(4636), tensor(1225), tensor(9894), tensor(521), tensor(5537), tensor(1834), tensor(333), tensor(230), tensor(9362), tensor(24), tensor(7008), tensor(2850), tensor(4172), tensor(308), tensor(4578), tensor(8487), tensor(585), tensor(1036), tensor(19), tensor(8482), tensor(1284), tensor(9192), tensor(1282), tensor(9924), tensor(9385), tensor(2201), tensor(9609), tensor(1802), tensor(811), tensor(68), tensor(9957), tensor(9422), tensor(477), tensor(35), tensor(7795), tensor(74), tensor(6456), tensor(4434), tensor(6121), tensor(170), tensor(1635), tensor(6013), tensor(1765), tensor(2581), tensor(3490), tensor(7906), tensor(8971), tensor(7503), tensor(4884), tensor(544), tensor(8214), tensor(4028), tensor(8583), tensor(159), tensor(3702), tensor(1471), tensor(2946), tensor(4364), tensor(4615), tensor(7354), tensor(3474), tensor(8887), tensor(162), tensor(8832), tensor(3924), tensor(132), tensor(7280), tensor(6587), tensor(6424), tensor(184), tensor(8462), tensor(9852), tensor(7992), tensor(7961), tensor(4435), tensor(560), tensor(265), tensor(9963), tensor(9593), tensor(3571), tensor(5514), tensor(2329), tensor(1318), tensor(1164), tensor(1064), tensor(248), tensor(3152), tensor(1444), tensor(4956), tensor(1382), tensor(8938), tensor(365), tensor(9783), tensor(5600), tensor(3083), tensor(7226), tensor(494), tensor(519), tensor(8675), tensor(9799), tensor(8664), tensor(851), tensor(9988), tensor(9769), tensor(240), tensor(9683), tensor(8086), tensor(1691), tensor(2485), tensor(2504), tensor(9202), tensor(9131), tensor(2771), tensor(9092), tensor(9170), tensor(8403), tensor(9057), tensor(9860), tensor(3695), tensor(4839), tensor(9177), tensor(8995), tensor(1210), tensor(265), tensor(9868), tensor(5045), tensor(2085), tensor(159), tensor(3075), tensor(566), tensor(5245), tensor(49), tensor(888), tensor(5463), tensor(9400), tensor(1380), tensor(9322), tensor(8498), tensor(534), tensor(3879), tensor(583), tensor(9483), tensor(8285)]\n",
      "Mean rank in row: 4820.5\n",
      "median rank in col: 4810.0\n",
      "Row is higher: 0.491\n"
     ]
    }
   ],
   "source": [
    "# Find the rank of each token w/ itself\n",
    "import numpy as np\n",
    "rank_row = []\n",
    "rank_col = []\n",
    "row_is_higher = []\n",
    "for i in range(1000):\n",
    "    self_value = ov_circuit[i, i]\n",
    "    row = ov_circuit[i]\n",
    "    col = ov_circuit.T[i]\n",
    "    rank_in_row = (row >= self_value).sum()\n",
    "    rank_in_col = (col >= self_value).sum()\n",
    "    rank_row.append(rank_in_row)\n",
    "    rank_col.append(rank_in_col)\n",
    "    row_is_higher.append(rank_in_row < rank_in_col)\n",
    "\n",
    "print(rank_row)\n",
    "print(rank_col)\n",
    "\n",
    "print(f\"Mean rank in row: {np.median(rank_row)}\")\n",
    "print(f\"median rank in col: {np.median(rank_col)}\")\n",
    "\n",
    "print(f\"Row is higher: {np.mean(row_is_higher)}\")"
   ]
  },
  {
   "cell_type": "code",
   "execution_count": 41,
   "id": "5d9f8305",
   "metadata": {},
   "outputs": [
    {
     "name": "stdout",
     "output_type": "stream",
     "text": [
      "Destination token:   The\n",
      "9.6782 |  agreed\n",
      "9.3309 |  their\n",
      "8.9546 |  voice\n",
      "8.2828 |  bark\n",
      "8.2175 |  do\n",
      "8.1109 |  home\n",
      "7.8079 |  idea\n",
      "7.4755 |  smell\n",
      "7.4372 |  little\n",
      "7.2488 |  talk\n",
      "Destination token:   The\n",
      "8.5323 |  were\n",
      "8.0428 |  looked\n",
      "7.4233 |  look\n",
      "6.9625 |  build\n",
      "6.8243 |  threw\n",
      "6.6537 |  throw\n",
      "6.5878 |  looking\n",
      "6.4921 |  all\n",
      "6.0935 |  up\n",
      "6.0557 |  bit\n"
     ]
    }
   ],
   "source": [
    "from tokenization.tokenization import  tokenizer\n",
    "destination_token = 10\n",
    "val, ind = ov_circuit[destination_token].topk(10)\n",
    "print(\"Destination token: \", tokenizer.decode(destination_token))\n",
    "for v, i in zip(val, ind):\n",
    "    print(f\"{v:.4f} | {tokenizer.decode(i.item())}\")\n",
    "\n",
    "val, ind = ov_circuit.T[destination_token].topk(10)\n",
    "print(\"Destination token: \", tokenizer.decode(destination_token))\n",
    "for v, i in zip(val, ind):\n",
    "    print(f\"{v:.4f} | {tokenizer.decode(i.item())}\")\n"
   ]
  },
  {
   "cell_type": "code",
   "execution_count": 42,
   "id": "bde32672",
   "metadata": {},
   "outputs": [
    {
     "name": "stdout",
     "output_type": "stream",
     "text": [
      "Destination token:   the\n",
      "10.6877 | 's\n",
      "10.4061 |  its\n",
      "9.9053 |  his\n",
      "9.8758 |  her\n",
      "9.6531 |  agreed\n",
      "9.3208 |  twin\n",
      "8.9878 |  bark\n",
      "8.9015 |  tried\n",
      "8.8043 |  pur\n",
      "8.2855 |  their\n",
      "Destination token:   the\n",
      "10.1610 | 's\n",
      "10.0965 |  his\n",
      "9.6766 |  your\n",
      "9.2617 |  her\n",
      "8.9085 |  His\n",
      "8.5088 |  up\n",
      "8.2135 |  Her\n",
      "7.6320 |  my\n",
      "7.2988 |  the\n",
      "6.9803 |  their\n"
     ]
    }
   ],
   "source": [
    "from tokenization.tokenization import  tokenizer\n",
    "destination_token = 2\n",
    "val, ind = ov_circuit[destination_token].topk(10)\n",
    "print(\"Destination token: \", tokenizer.decode(destination_token))\n",
    "for v, i in zip(val, ind):\n",
    "    print(f\"{v:.4f} | {tokenizer.decode(i.item())}\")\n",
    "\n",
    "val, ind = ov_circuit.T[destination_token].topk(10)\n",
    "print(\"Destination token: \", tokenizer.decode(destination_token))\n",
    "for v, i in zip(val, ind):\n",
    "    print(f\"{v:.4f} | {tokenizer.decode(i.item())}\")"
   ]
  },
  {
   "cell_type": "code",
   "execution_count": 38,
   "id": "0b573f11",
   "metadata": {},
   "outputs": [
    {
     "name": "stdout",
     "output_type": "stream",
     "text": [
      "Destination token:   to\n",
      "69.0686 | 's 14.4123 |  look 11.5252 |  mouth 10.4861 |  low 10.4163 |  back 10.3064 |  by 10.2232 |  smell 10.1610 |  the 9.9262 |  wing 9.8162 |  stuck 9.5438 |  engine\n",
      "38.3394 |  other 10.5961 |  Every 9.3460 |  called 8.9469 |  enough 8.6660 |  asked 8.6202 | When 8.5336 | s 8.3339 |  allowed 7.1777 | As 7.1692 |  allow 6.9283 |  named\n",
      "35.6107 |  all 10.1174 |  because 10.0460 | ed 9.7023 |  let 8.8875 |  never 8.8856 |  enjoyed 8.7785 |  spent 8.7045 |  all 8.4376 |  scared 8.3462 |  spend 8.2874 |  spring\n",
      "34.4136 |  dad 6.8226 |  frightened 6.5416 |  world 6.0228 |  scared 6.0078 |  from 5.7346 |  nervous 5.5589 | um 5.4191 |  town 5.3892 |  but 5.1584 |  meeting 5.1267 |  kitchen\n",
      "33.3804 |  back 6.6792 |  world 6.4928 | His 6.2387 |  sunglasses 5.9841 |  alone 5.7788 |  wrong 5.7467 |  storm 5.7402 |  from 5.7359 | OK 5.5455 | Mr 5.4005 |  Mr\n",
      "33.1870 |  little 9.4671 | [BEGIN] 8.3228 |  first 8.1457 |  favorite 8.1279 |  best 7.2677 |  They 7.0401 |  borrow 6.8254 |  moral 6.7758 |  name 6.6779 |  okay 6.5335 |  even\n",
      "32.0816 |  new 11.5979 |  wind 10.5139 |  home 9.8486 |  unexpected 9.5414 |  lived 8.8128 |  wrong 8.5153 | Don 7.7690 |  friend 7.6970 |  knocked 7.6616 |  its 7.6515 |  ground\n",
      "31.6683 |  do 10.0184 |  As 9.1807 |  me 8.9909 |  Suddenly 8.9649 | Suddenly 8.9423 |  A 8.2053 |  when 8.0189 |  fell 7.8769 | As 7.5285 |  team 7.3659 |  legs\n",
      "29.9689 |  one 11.0287 |  loved 9.0427 |  home 8.6068 |  lady 8.5436 |  key 8.5268 |  story 8.5183 |  engine 8.4524 |  woman 7.9954 |  its 7.7902 |  like 7.6025 |  witch\n",
      "29.8201 |  bird 13.7087 |  Some 8.0732 | s 8.0020 | flower 7.7508 |  impatient 7.6901 |  counter 7.6285 |  what 7.5938 |  walk 7.5562 |  selfish 7.4800 |  bananas 7.4651 |  Everyone\n"
     ]
    }
   ],
   "source": [
    "from tokenization.tokenization import  tokenizer\n",
    "destination_token = 5\n",
    "bil_qk_circuit = qk_circuit.square()\n",
    "val, ind = bil_qk_circuit.T[destination_token].topk(10)\n",
    "# val, ind = bil_qk_circuit[destination_token].topk(10)\n",
    "print(\"Destination token: \", tokenizer.decode(destination_token))\n",
    "for v, i in zip(val, ind):\n",
    "    o_val, o_ind = ov_circuit[i].topk(10)\n",
    "    # o_val, o_ind = ov_circuit.T[i].topk(10)\n",
    "    text_print = f\"{v:.4f} | {tokenizer.decode(i.item())}\"\n",
    "    for o_v, o_i in zip(o_val, o_ind):\n",
    "        text_print += f\" {o_v:.4f} | {tokenizer.decode(o_i.item())}\"\n",
    "    print(text_print)"
   ]
  },
  {
   "cell_type": "code",
   "execution_count": null,
   "id": "96d77df7",
   "metadata": {},
   "outputs": [
    {
     "data": {
      "text/plain": [
       "'.'"
      ]
     },
     "execution_count": 11,
     "metadata": {},
     "output_type": "execute_result"
    }
   ],
   "source": [
    "token = [0]\n",
    "text = tokenizer.decode(token)\n",
    "text"
   ]
  },
  {
   "cell_type": "code",
   "execution_count": 23,
   "id": "3153d58c",
   "metadata": {},
   "outputs": [
    {
     "ename": "ImportError",
     "evalue": "cannot import name 'TinyModel' from 'tinymodel' (/venv/main/lib/python3.10/site-packages/tinymodel/__init__.py)",
     "output_type": "error",
     "traceback": [
      "\u001b[0;31m---------------------------------------------------------------------------\u001b[0m",
      "\u001b[0;31mImportError\u001b[0m                               Traceback (most recent call last)",
      "Cell \u001b[0;32mIn[23], line 1\u001b[0m\n\u001b[0;32m----> 1\u001b[0m \u001b[38;5;28;01mfrom\u001b[39;00m\u001b[38;5;250m \u001b[39m\u001b[38;5;21;01mtinymodel\u001b[39;00m\u001b[38;5;250m \u001b[39m\u001b[38;5;28;01mimport\u001b[39;00m TinyModel, tokenizer\n\u001b[1;32m      3\u001b[0m lm \u001b[38;5;241m=\u001b[39m TinyModel()\n\u001b[1;32m      5\u001b[0m \u001b[38;5;66;03m# for inference\u001b[39;00m\n",
      "\u001b[0;31mImportError\u001b[0m: cannot import name 'TinyModel' from 'tinymodel' (/venv/main/lib/python3.10/site-packages/tinymodel/__init__.py)"
     ]
    }
   ],
   "source": [
    "from tinymodel import TinyModel, tokenizer\n",
    "\n",
    "lm = TinyModel()\n",
    "\n",
    "# for inference\n",
    "tok_ids, padding_mask = tokenizer(['Once upon a time', 'In the forest'])\n",
    "logprobs = lm(tok_ids)\n",
    "\n",
    "# Get SAE/transcoder acts\n",
    "# See 'SAEs/Transcoders' section for more information.\n",
    "feature_acts = lm['M1N123'](tok_ids)\n",
    "all_feat_acts = lm['M2'](tok_ids)\n",
    "\n",
    "# Generation\n",
    "lm.generate('Once upon a time, Ada was happily walking through a magical forest with')\n",
    "\n",
    "# To decode tok_ids you can use\n",
    "tokenizer.decode(tok_ids)"
   ]
  },
  {
   "cell_type": "code",
   "execution_count": null,
   "id": "b95ac399",
   "metadata": {},
   "outputs": [
    {
     "data": {
      "text/plain": [
       "10000"
      ]
     },
     "execution_count": 29,
     "metadata": {},
     "output_type": "execute_result"
    }
   ],
   "source": [
    "from tokenization.tokenization import tokenizer"
   ]
  }
 ],
 "metadata": {
  "kernelspec": {
   "display_name": "Python 3",
   "language": "python",
   "name": "python3"
  },
  "language_info": {
   "codemirror_mode": {
    "name": "ipython",
    "version": 3
   },
   "file_extension": ".py",
   "mimetype": "text/x-python",
   "name": "python",
   "nbconvert_exporter": "python",
   "pygments_lexer": "ipython3",
   "version": "3.12.11"
  }
 },
 "nbformat": 4,
 "nbformat_minor": 5
}
