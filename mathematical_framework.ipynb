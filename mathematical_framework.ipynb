{
 "cells": [
  {
   "cell_type": "code",
   "execution_count": 10,
   "id": "0b156b2e",
   "metadata": {},
   "outputs": [
    {
     "name": "stderr",
     "output_type": "stream",
     "text": [
      "/tmp/ipykernel_3021/4289467497.py:15: FutureWarning: You are using `torch.load` with `weights_only=False` (the current default value), which uses the default pickle module implicitly. It is possible to construct malicious pickle data which will execute arbitrary code during unpickling (See https://github.com/pytorch/pytorch/blob/main/SECURITY.md#untrusted-models for more details). In a future release, the default value for `weights_only` will be flipped to `True`. This limits the functions that could be executed during unpickling. Arbitrary objects will no longer be allowed to be loaded via this mode unless they are explicitly allowlisted by the user via `torch.serialization.add_safe_globals`. We recommend you start setting `weights_only=True` for any use case where you don't have full control of the loaded file. Please open an issue on GitHub for any issues related to this experimental feature.\n",
      "  state_dict = torch.load(f'toy_transformer_{model_name}.pt')\n"
     ]
    },
    {
     "data": {
      "text/plain": [
       "<All keys matched successfully>"
      ]
     },
     "execution_count": 10,
     "metadata": {},
     "output_type": "execute_result"
    }
   ],
   "source": [
    "import torch\n",
    "import json\n",
    "from utils import ToyTransformer, ModelConfig\n",
    "\n",
    "# we want to load in the config & weights \n",
    "model_name = \"attention_only_1L\"\n",
    "\n",
    "# load in the config\n",
    "with open(f'{model_name}_config.json', 'r') as f:\n",
    "    config = json.load(f)\n",
    "# turn config into a dot dict\n",
    "config = ModelConfig(**config)\n",
    "# load in the weights\n",
    "model = ToyTransformer(config)\n",
    "state_dict = torch.load(f'toy_transformer_{model_name}.pt')\n",
    "model.load_state_dict(state_dict)\n",
    "\n",
    "# we want to load in the data"
   ]
  },
  {
   "cell_type": "code",
   "execution_count": 11,
   "id": "c1a0259c",
   "metadata": {},
   "outputs": [
    {
     "data": {
      "text/plain": [
       "ToyTransformer(\n",
       "  (embed): Embedding(50257, 512)\n",
       "  (dropout): Dropout(p=0.1, inplace=False)\n",
       "  (layers): ModuleList(\n",
       "    (0): QuadraticAttention(\n",
       "      (rotary): Rotary()\n",
       "      (norm): RMSNorm((64,), eps=None, elementwise_affine=True)\n",
       "      (mask): Mask()\n",
       "      (q): Linear(in_features=512, out_features=512, bias=True)\n",
       "      (k): Linear(in_features=512, out_features=512, bias=True)\n",
       "      (v): Linear(in_features=512, out_features=512, bias=True)\n",
       "      (o): Linear(in_features=512, out_features=512, bias=False)\n",
       "    )\n",
       "  )\n",
       "  (head): Linear(in_features=512, out_features=50257, bias=False)\n",
       ")"
      ]
     },
     "execution_count": 11,
     "metadata": {},
     "output_type": "execute_result"
    }
   ],
   "source": [
    "model"
   ]
  },
  {
   "cell_type": "code",
   "execution_count": 22,
   "id": "3db88223",
   "metadata": {},
   "outputs": [
    {
     "name": "stdout",
     "output_type": "stream",
     "text": [
      "Shape of E: torch.Size([50257, 512])\n",
      "Shape of Q: torch.Size([512, 512])\n",
      "Shape of K: torch.Size([512, 512])\n",
      "Shape of V: torch.Size([512, 512])\n",
      "Shape of O: torch.Size([512, 512])\n"
     ]
    }
   ],
   "source": [
    "E = model.embed.weight.data\n",
    "Q = model.layers[0].q.weight.data\n",
    "K = model.layers[0].k.weight.data\n",
    "V = model.layers[0].v.weight.data\n",
    "O = model.layers[0].o.weight.data\n",
    "U = model.head.weight.data\n",
    "\n",
    "print(f\"Shape of E: {E.shape}\")\n",
    "print(f\"Shape of Q: {Q.shape}\")\n",
    "print(f\"Shape of K: {K.shape}\")\n",
    "print(f\"Shape of V: {V.shape}\")\n",
    "print(f\"Shape of O: {O.shape}\")\n",
    "\n",
    "attn_head_idx = 0\n",
    "d_head = model.layers[0].d_head\n",
    "\n",
    "q = Q[attn_head_idx * d_head:(attn_head_idx + 1) * d_head]\n",
    "k = K[attn_head_idx * d_head:(attn_head_idx + 1) * d_head]\n",
    "v = V[attn_head_idx * d_head:(attn_head_idx + 1) * d_head]\n",
    "o = O[attn_head_idx * d_head:(attn_head_idx + 1) * d_head]\n",
    "\n",
    "qk = q.T @ k\n",
    "ov = v.T @ o\n",
    "\n",
    "qk_circuit = E @ qk @ E.T\n",
    "ov_circuit = U @ ov @ E.T"
   ]
  },
  {
   "cell_type": "code",
   "execution_count": 23,
   "id": "3153d58c",
   "metadata": {},
   "outputs": [
    {
     "ename": "ImportError",
     "evalue": "cannot import name 'TinyModel' from 'tinymodel' (/venv/main/lib/python3.10/site-packages/tinymodel/__init__.py)",
     "output_type": "error",
     "traceback": [
      "\u001b[0;31m---------------------------------------------------------------------------\u001b[0m",
      "\u001b[0;31mImportError\u001b[0m                               Traceback (most recent call last)",
      "Cell \u001b[0;32mIn[23], line 1\u001b[0m\n\u001b[0;32m----> 1\u001b[0m \u001b[38;5;28;01mfrom\u001b[39;00m\u001b[38;5;250m \u001b[39m\u001b[38;5;21;01mtinymodel\u001b[39;00m\u001b[38;5;250m \u001b[39m\u001b[38;5;28;01mimport\u001b[39;00m TinyModel, tokenizer\n\u001b[1;32m      3\u001b[0m lm \u001b[38;5;241m=\u001b[39m TinyModel()\n\u001b[1;32m      5\u001b[0m \u001b[38;5;66;03m# for inference\u001b[39;00m\n",
      "\u001b[0;31mImportError\u001b[0m: cannot import name 'TinyModel' from 'tinymodel' (/venv/main/lib/python3.10/site-packages/tinymodel/__init__.py)"
     ]
    }
   ],
   "source": [
    "from tinymodel import TinyModel, tokenizer\n",
    "\n",
    "lm = TinyModel()\n",
    "\n",
    "# for inference\n",
    "tok_ids, padding_mask = tokenizer(['Once upon a time', 'In the forest'])\n",
    "logprobs = lm(tok_ids)\n",
    "\n",
    "# Get SAE/transcoder acts\n",
    "# See 'SAEs/Transcoders' section for more information.\n",
    "feature_acts = lm['M1N123'](tok_ids)\n",
    "all_feat_acts = lm['M2'](tok_ids)\n",
    "\n",
    "# Generation\n",
    "lm.generate('Once upon a time, Ada was happily walking through a magical forest with')\n",
    "\n",
    "# To decode tok_ids you can use\n",
    "tokenizer.decode(tok_ids)"
   ]
  },
  {
   "cell_type": "code",
   "execution_count": null,
   "id": "b95ac399",
   "metadata": {},
   "outputs": [
    {
     "data": {
      "text/plain": [
       "10000"
      ]
     },
     "execution_count": 29,
     "metadata": {},
     "output_type": "execute_result"
    }
   ],
   "source": [
    "from tokenization.tokenization import tokenizer"
   ]
  }
 ],
 "metadata": {
  "kernelspec": {
   "display_name": "Python 3",
   "language": "python",
   "name": "python3"
  },
  "language_info": {
   "codemirror_mode": {
    "name": "ipython",
    "version": 3
   },
   "file_extension": ".py",
   "mimetype": "text/x-python",
   "name": "python",
   "nbconvert_exporter": "python",
   "pygments_lexer": "ipython3",
   "version": "3.10.18"
  }
 },
 "nbformat": 4,
 "nbformat_minor": 5
}
